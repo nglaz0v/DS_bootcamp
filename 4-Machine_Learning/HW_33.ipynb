{
 "cells": [
  {
   "cell_type": "markdown",
   "id": "68194998",
   "metadata": {},
   "source": [
    "# ДЗ: Оценка моделей"
   ]
  },
  {
   "cell_type": "code",
   "execution_count": 1,
   "id": "280332ed",
   "metadata": {},
   "outputs": [],
   "source": [
    "import warnings\n",
    "warnings.filterwarnings('ignore')\n",
    "\n",
    "import numpy as np\n",
    "import pandas as pd\n",
    "from sklearn.metrics import recall_score, precision_score, accuracy_score, f1_score, \\\n",
    "                            classification_report, roc_auc_score"
   ]
  },
  {
   "cell_type": "code",
   "execution_count": 2,
   "id": "4d68b947",
   "metadata": {},
   "outputs": [
    {
     "data": {
      "text/html": [
       "<div>\n",
       "<style scoped>\n",
       "    .dataframe tbody tr th:only-of-type {\n",
       "        vertical-align: middle;\n",
       "    }\n",
       "\n",
       "    .dataframe tbody tr th {\n",
       "        vertical-align: top;\n",
       "    }\n",
       "\n",
       "    .dataframe thead th {\n",
       "        text-align: right;\n",
       "    }\n",
       "</style>\n",
       "<table border=\"1\" class=\"dataframe\">\n",
       "  <thead>\n",
       "    <tr style=\"text-align: right;\">\n",
       "      <th></th>\n",
       "      <th>y</th>\n",
       "      <th>prediction</th>\n",
       "      <th>predict_proba</th>\n",
       "    </tr>\n",
       "  </thead>\n",
       "  <tbody>\n",
       "    <tr>\n",
       "      <th>0</th>\n",
       "      <td>0</td>\n",
       "      <td>1</td>\n",
       "      <td>0.7</td>\n",
       "    </tr>\n",
       "    <tr>\n",
       "      <th>1</th>\n",
       "      <td>0</td>\n",
       "      <td>0</td>\n",
       "      <td>0.1</td>\n",
       "    </tr>\n",
       "    <tr>\n",
       "      <th>2</th>\n",
       "      <td>1</td>\n",
       "      <td>1</td>\n",
       "      <td>0.9</td>\n",
       "    </tr>\n",
       "    <tr>\n",
       "      <th>3</th>\n",
       "      <td>1</td>\n",
       "      <td>0</td>\n",
       "      <td>0.5</td>\n",
       "    </tr>\n",
       "    <tr>\n",
       "      <th>4</th>\n",
       "      <td>0</td>\n",
       "      <td>0</td>\n",
       "      <td>0.4</td>\n",
       "    </tr>\n",
       "  </tbody>\n",
       "</table>\n",
       "</div>"
      ],
      "text/plain": [
       "   y  prediction  predict_proba\n",
       "0  0           1            0.7\n",
       "1  0           0            0.1\n",
       "2  1           1            0.9\n",
       "3  1           0            0.5\n",
       "4  0           0            0.4"
      ]
     },
     "execution_count": 2,
     "metadata": {},
     "output_type": "execute_result"
    }
   ],
   "source": [
    "df = pd.DataFrame({\n",
    "    'y': [0, 0, 1, 1, 0],\n",
    "    'prediction': [1, 0, 1, 0, 0],\n",
    "    'predict_proba': [0.7, 0.1, 0.9, 0.5, 0.4]\n",
    "})\n",
    "df"
   ]
  },
  {
   "cell_type": "code",
   "execution_count": 3,
   "id": "668b3244",
   "metadata": {},
   "outputs": [
    {
     "name": "stdout",
     "output_type": "stream",
     "text": [
      "recall = 0.5\n",
      "precision = 0.5\n",
      "accuracy = 0.6\n",
      "F1 = 0.5\n",
      "              precision    recall  f1-score   support\n",
      "\n",
      "           0       0.67      0.67      0.67         3\n",
      "           1       0.50      0.50      0.50         2\n",
      "\n",
      "    accuracy                           0.60         5\n",
      "   macro avg       0.58      0.58      0.58         5\n",
      "weighted avg       0.60      0.60      0.60         5\n",
      "\n",
      "ROC AUC = 0.8333333333333334\n"
     ]
    }
   ],
   "source": [
    "y_true = df['y']\n",
    "y_pred = df['prediction']\n",
    "y_prob = df['predict_proba']\n",
    "\n",
    "recall = recall_score(y_true, y_pred)\n",
    "precision = precision_score(y_true, y_pred)\n",
    "accuracy = accuracy_score(y_true, y_pred)\n",
    "F1 = f1_score(y_true, y_pred)\n",
    "\n",
    "print(f\"{recall = }\")\n",
    "print(f\"{precision = }\")\n",
    "print(f\"{accuracy = }\")\n",
    "print(f\"{F1 = }\")\n",
    "print(classification_report(y_true, y_pred))\n",
    "print(f\"ROC AUC = {roc_auc_score(y_true, y_prob)}\")"
   ]
  },
  {
   "cell_type": "code",
   "execution_count": 4,
   "id": "ba14cf94",
   "metadata": {},
   "outputs": [
    {
     "data": {
      "text/html": [
       "<div>\n",
       "<style scoped>\n",
       "    .dataframe tbody tr th:only-of-type {\n",
       "        vertical-align: middle;\n",
       "    }\n",
       "\n",
       "    .dataframe tbody tr th {\n",
       "        vertical-align: top;\n",
       "    }\n",
       "\n",
       "    .dataframe thead th {\n",
       "        text-align: right;\n",
       "    }\n",
       "</style>\n",
       "<table border=\"1\" class=\"dataframe\">\n",
       "  <thead>\n",
       "    <tr style=\"text-align: right;\">\n",
       "      <th></th>\n",
       "      <th>y</th>\n",
       "      <th>prediction</th>\n",
       "      <th>predict_proba</th>\n",
       "    </tr>\n",
       "  </thead>\n",
       "  <tbody>\n",
       "    <tr>\n",
       "      <th>0</th>\n",
       "      <td>0</td>\n",
       "      <td>1</td>\n",
       "      <td>0.5</td>\n",
       "    </tr>\n",
       "    <tr>\n",
       "      <th>1</th>\n",
       "      <td>0</td>\n",
       "      <td>1</td>\n",
       "      <td>0.5</td>\n",
       "    </tr>\n",
       "    <tr>\n",
       "      <th>2</th>\n",
       "      <td>1</td>\n",
       "      <td>1</td>\n",
       "      <td>0.5</td>\n",
       "    </tr>\n",
       "    <tr>\n",
       "      <th>3</th>\n",
       "      <td>1</td>\n",
       "      <td>1</td>\n",
       "      <td>0.5</td>\n",
       "    </tr>\n",
       "    <tr>\n",
       "      <th>4</th>\n",
       "      <td>0</td>\n",
       "      <td>1</td>\n",
       "      <td>0.5</td>\n",
       "    </tr>\n",
       "  </tbody>\n",
       "</table>\n",
       "</div>"
      ],
      "text/plain": [
       "   y  prediction  predict_proba\n",
       "0  0           1            0.5\n",
       "1  0           1            0.5\n",
       "2  1           1            0.5\n",
       "3  1           1            0.5\n",
       "4  0           1            0.5"
      ]
     },
     "execution_count": 4,
     "metadata": {},
     "output_type": "execute_result"
    }
   ],
   "source": [
    "df['prediction'] = 1\n",
    "df['predict_proba'] = 0.5\n",
    "df"
   ]
  },
  {
   "cell_type": "code",
   "execution_count": 5,
   "id": "f501256c",
   "metadata": {},
   "outputs": [
    {
     "name": "stdout",
     "output_type": "stream",
     "text": [
      "recall = 1.0\n",
      "precision = 0.4\n",
      "accuracy = 0.4\n",
      "F1 = 0.5714285714285715\n",
      "              precision    recall  f1-score   support\n",
      "\n",
      "           0       0.00      0.00      0.00         3\n",
      "           1       0.40      1.00      0.57         2\n",
      "\n",
      "    accuracy                           0.40         5\n",
      "   macro avg       0.20      0.50      0.29         5\n",
      "weighted avg       0.16      0.40      0.23         5\n",
      "\n",
      "ROC AUC = 0.5\n"
     ]
    }
   ],
   "source": [
    "y_true = df['y']\n",
    "y_pred = df['prediction']\n",
    "y_prob = df['predict_proba']\n",
    "\n",
    "recall = recall_score(y_true, y_pred)\n",
    "precision = precision_score(y_true, y_pred)\n",
    "accuracy = accuracy_score(y_true, y_pred)\n",
    "F1 = f1_score(y_true, y_pred)\n",
    "\n",
    "print(f\"{recall = }\")\n",
    "print(f\"{precision = }\")\n",
    "print(f\"{accuracy = }\")\n",
    "print(f\"{F1 = }\")\n",
    "print(classification_report(y_true, y_pred))\n",
    "print(f\"ROC AUC = {roc_auc_score(y_true, y_prob)}\")"
   ]
  },
  {
   "cell_type": "markdown",
   "id": "b2938f15",
   "metadata": {},
   "source": [
    "Значений метрик *recall*, *precision*, *accuracy*, *F1* оказалось недостаточно для оценки качества нашей модели, поскольку по некоторым из них простая константная модель (baseline) демонстрировала куда лучшие показатели. Поэтому дополнительно была вычислена метрика *ROC AUC*, которая выявила превосходство нашей модели над baseline'ом."
   ]
  },
  {
   "cell_type": "code",
   "execution_count": null,
   "id": "c0b2a3a8",
   "metadata": {},
   "outputs": [],
   "source": []
  }
 ],
 "metadata": {
  "kernelspec": {
   "display_name": "Python 3 (ipykernel)",
   "language": "python",
   "name": "python3"
  },
  "language_info": {
   "codemirror_mode": {
    "name": "ipython",
    "version": 3
   },
   "file_extension": ".py",
   "mimetype": "text/x-python",
   "name": "python",
   "nbconvert_exporter": "python",
   "pygments_lexer": "ipython3",
   "version": "3.10.6"
  }
 },
 "nbformat": 4,
 "nbformat_minor": 5
}
