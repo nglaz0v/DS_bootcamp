{
 "cells": [
  {
   "cell_type": "markdown",
   "id": "b68208e8",
   "metadata": {},
   "source": [
    "# ДЗ: Знакомство с нейронными сетями"
   ]
  },
  {
   "cell_type": "code",
   "execution_count": 1,
   "id": "d25f26a3",
   "metadata": {},
   "outputs": [],
   "source": [
    "import graphviz\n",
    "import sympy\n",
    "sympy.init_printing(use_unicode=True)"
   ]
  },
  {
   "cell_type": "markdown",
   "id": "6be77b61",
   "metadata": {},
   "source": [
    "### №1\n",
    "Вспомните рассмотренные на занятии функции активации нейронной сети.\n",
    "Чему равна производная сигмоидной функции активации? Выразите ответ через сигмоидную функцию."
   ]
  },
  {
   "cell_type": "code",
   "execution_count": 2,
   "id": "0165eae2",
   "metadata": {},
   "outputs": [
    {
     "data": {
      "image/png": "[encoded data removed]",
      "text/latex": [
       "$\\displaystyle \\frac{1}{1 + e^{- x}}$"
      ],
      "text/plain": [
       "   1   \n",
       "───────\n",
       "     -x\n",
       "1 + ℯ  "
      ]
     },
     "execution_count": 2,
     "metadata": {},
     "output_type": "execute_result"
    }
   ],
   "source": [
    "x = sympy.symbols(\"x\")\n",
    "sigmoid = 1/(1+sympy.exp(-x))\n",
    "sigmoid"
   ]
  },
  {
   "cell_type": "code",
   "execution_count": 3,
   "id": "1b0cc01c",
   "metadata": {},
   "outputs": [
    {
     "data": {
      "image/png": "[encoded data removed]",
      "text/latex": [
       "$\\displaystyle \\frac{e^{- x}}{\\left(1 + e^{- x}\\right)^{2}}$"
      ],
      "text/plain": [
       "    -x    \n",
       "   ℯ      \n",
       "──────────\n",
       "         2\n",
       "⎛     -x⎞ \n",
       "⎝1 + ℯ  ⎠ "
      ]
     },
     "execution_count": 3,
     "metadata": {},
     "output_type": "execute_result"
    }
   ],
   "source": [
    "# производная сигмоидной функции активации\n",
    "dsigm = sympy.diff(sigmoid, x)\n",
    "dsigm"
   ]
  },
  {
   "cell_type": "code",
   "execution_count": 4,
   "id": "39fb0337",
   "metadata": {},
   "outputs": [
    {
     "data": {
      "image/png": "[encoded data removed]",
      "text/latex": [
       "$\\displaystyle \\frac{1}{4 \\cosh^{2}{\\left(\\frac{x}{2} \\right)}}$"
      ],
      "text/plain": [
       "    1     \n",
       "──────────\n",
       "      2⎛x⎞\n",
       "4⋅cosh ⎜─⎟\n",
       "       ⎝2⎠"
      ]
     },
     "execution_count": 4,
     "metadata": {},
     "output_type": "execute_result"
    }
   ],
   "source": [
    "sympy.simplify(dsigm)"
   ]
  },
  {
   "cell_type": "code",
   "execution_count": 5,
   "id": "4f5ecf55",
   "metadata": {},
   "outputs": [
    {
     "data": {
      "image/png": "[encoded data removed]",
      "text/latex": [
       "$\\displaystyle Sigmoid^{2} e^{- x}$"
      ],
      "text/plain": [
       "       2  -x\n",
       "Sigmoid ⋅ℯ  "
      ]
     },
     "execution_count": 5,
     "metadata": {},
     "output_type": "execute_result"
    }
   ],
   "source": [
    "# производная, выраженная через сигмоиду\n",
    "Sigmoid = sympy.symbols(\"Sigmoid\")\n",
    "dsigm.subs(sigmoid, Sigmoid)"
   ]
  },
  {
   "cell_type": "code",
   "execution_count": 6,
   "id": "d56491b6",
   "metadata": {},
   "outputs": [
    {
     "data": {
      "image/png": "[encoded data removed]",
      "text/latex": [
       "$\\displaystyle \\frac{1}{e^{x} + 1} - \\frac{1}{\\left(e^{x} + 1\\right)^{2}}$"
      ],
      "text/plain": [
       "  1          1    \n",
       "────── - ─────────\n",
       " x               2\n",
       "ℯ  + 1   ⎛ x    ⎞ \n",
       "         ⎝ℯ  + 1⎠ "
      ]
     },
     "execution_count": 6,
     "metadata": {},
     "output_type": "execute_result"
    }
   ],
   "source": [
    "sympy.apart(dsigm)"
   ]
  },
  {
   "cell_type": "code",
   "execution_count": 7,
   "id": "8d8d1f29",
   "metadata": {},
   "outputs": [
    {
     "data": {
      "image/png": "[encoded data removed]",
      "text/latex": [
       "$\\displaystyle - f \\left(f - 1\\right)$"
      ],
      "text/plain": [
       "-f⋅(f - 1)"
      ]
     },
     "execution_count": 7,
     "metadata": {},
     "output_type": "execute_result"
    }
   ],
   "source": [
    "f = sympy.symbols(\"f\")\n",
    "sympy.factor(sympy.apart(dsigm).subs(1/(1+sympy.exp(x)), f))"
   ]
  },
  {
   "cell_type": "markdown",
   "id": "3e6a918c",
   "metadata": {},
   "source": [
    "### №2\n",
    "Пусть на вход искусственному нейрону подается число x, а затем домножается на вес связи \n",
    "$w_1$, внутри нейрона прибавляется вес-смещение $w_0$ и после этого применяется функция активации Relu. \n",
    "\n",
    "Нарисуйте схему такого нейрона.\n",
    "\n",
    "Допустим, что в наш нейрон подали вход x=4 и получили ответ 1, потом подали вход x=2  и получили ответ 3.\n",
    "\n",
    "Чему равны веса $w_1, w_0$?"
   ]
  },
  {
   "cell_type": "code",
   "execution_count": 8,
   "id": "dc78e19b",
   "metadata": {},
   "outputs": [
    {
     "data": {
      "image/svg+xml": [
       "<?xml version=\"1.0\" encoding=\"UTF-8\" standalone=\"no\"?>\n",
       "<!DOCTYPE svg PUBLIC \"-//W3C//DTD SVG 1.1//EN\"\n",
       " \"http://www.w3.org/Graphics/SVG/1.1/DTD/svg11.dtd\">\n",
       "<!-- Generated by graphviz version 2.43.0 (0)\n",
       " -->\n",
       "<!-- Title: G Pages: 1 -->\n",
       "<svg width=\"416pt\" height=\"124pt\"\n",
       " viewBox=\"0.00 0.00 416.40 124.40\" xmlns=\"http://www.w3.org/2000/svg\" xmlns:xlink=\"http://www.w3.org/1999/xlink\">\n",
       "<g id=\"graph0\" class=\"graph\" transform=\"scale(1 1) rotate(0) translate(4 120.4)\">\n",
       "<title>G</title>\n",
       "<polygon fill=\"white\" stroke=\"transparent\" points=\"-4,4 -4,-120.4 412.4,-120.4 412.4,4 -4,4\"/>\n",
       "<!-- x -->\n",
       "<g id=\"node1\" class=\"node\">\n",
       "<title>x</title>\n",
       "<text text-anchor=\"middle\" x=\"27\" y=\"-88\" font-family=\"Times,serif\" font-size=\"14.00\">x</text>\n",
       "</g>\n",
       "<!-- w1 -->\n",
       "<g id=\"node4\" class=\"node\">\n",
       "<title>w1</title>\n",
       "<ellipse fill=\"none\" stroke=\"black\" cx=\"114.7\" cy=\"-91.7\" rx=\"24.9\" ry=\"24.9\"/>\n",
       "<text text-anchor=\"middle\" x=\"114.7\" y=\"-88\" font-family=\"Times,serif\" font-size=\"14.00\">w1</text>\n",
       "</g>\n",
       "<!-- x&#45;&gt;w1 -->\n",
       "<g id=\"edge1\" class=\"edge\">\n",
       "<title>x&#45;&gt;w1</title>\n",
       "<path fill=\"none\" stroke=\"black\" d=\"M54.18,-91.7C62.23,-91.7 71.21,-91.7 79.7,-91.7\"/>\n",
       "<polygon fill=\"black\" stroke=\"black\" points=\"79.72,-95.2 89.72,-91.7 79.72,-88.2 79.72,-95.2\"/>\n",
       "</g>\n",
       "<!-- 1 -->\n",
       "<g id=\"node2\" class=\"node\">\n",
       "<title>1</title>\n",
       "<text text-anchor=\"middle\" x=\"27\" y=\"-21\" font-family=\"Times,serif\" font-size=\"14.00\">1</text>\n",
       "</g>\n",
       "<!-- w0 -->\n",
       "<g id=\"node5\" class=\"node\">\n",
       "<title>w0</title>\n",
       "<ellipse fill=\"none\" stroke=\"black\" cx=\"114.7\" cy=\"-24.7\" rx=\"24.9\" ry=\"24.9\"/>\n",
       "<text text-anchor=\"middle\" x=\"114.7\" y=\"-21\" font-family=\"Times,serif\" font-size=\"14.00\">w0</text>\n",
       "</g>\n",
       "<!-- 1&#45;&gt;w0 -->\n",
       "<g id=\"edge2\" class=\"edge\">\n",
       "<title>1&#45;&gt;w0</title>\n",
       "<path fill=\"none\" stroke=\"black\" d=\"M54.18,-24.7C62.23,-24.7 71.21,-24.7 79.7,-24.7\"/>\n",
       "<polygon fill=\"black\" stroke=\"black\" points=\"79.72,-28.2 89.72,-24.7 79.72,-21.2 79.72,-28.2\"/>\n",
       "</g>\n",
       "<!-- y(x) -->\n",
       "<g id=\"node3\" class=\"node\">\n",
       "<title>y(x)</title>\n",
       "<text text-anchor=\"middle\" x=\"381.4\" y=\"-54\" font-family=\"Times,serif\" font-size=\"14.00\">y(x)</text>\n",
       "</g>\n",
       "<!-- Σ -->\n",
       "<g id=\"node6\" class=\"node\">\n",
       "<title>Σ</title>\n",
       "<ellipse fill=\"none\" stroke=\"black\" cx=\"193.4\" cy=\"-57.7\" rx=\"18\" ry=\"18\"/>\n",
       "<text text-anchor=\"middle\" x=\"193.4\" y=\"-54\" font-family=\"Times,serif\" font-size=\"14.00\">Σ</text>\n",
       "</g>\n",
       "<!-- w1&#45;&gt;Σ -->\n",
       "<g id=\"edge3\" class=\"edge\">\n",
       "<title>w1&#45;&gt;Σ</title>\n",
       "<path fill=\"none\" stroke=\"black\" d=\"M137.47,-82.05C146.67,-77.97 157.46,-73.19 167.02,-68.95\"/>\n",
       "<polygon fill=\"black\" stroke=\"black\" points=\"168.7,-72.03 176.42,-64.78 165.86,-65.63 168.7,-72.03\"/>\n",
       "</g>\n",
       "<!-- w0&#45;&gt;Σ -->\n",
       "<g id=\"edge4\" class=\"edge\">\n",
       "<title>w0&#45;&gt;Σ</title>\n",
       "<path fill=\"none\" stroke=\"black\" d=\"M137.88,-34.24C147.08,-38.2 157.79,-42.81 167.27,-46.89\"/>\n",
       "<polygon fill=\"black\" stroke=\"black\" points=\"166.02,-50.16 176.59,-50.9 168.79,-43.73 166.02,-50.16\"/>\n",
       "</g>\n",
       "<!-- ReLU(.) -->\n",
       "<g id=\"node7\" class=\"node\">\n",
       "<title>ReLU(.)</title>\n",
       "<polygon fill=\"none\" stroke=\"black\" points=\"318.4,-75.7 247.4,-75.7 247.4,-39.7 318.4,-39.7 318.4,-75.7\"/>\n",
       "<text text-anchor=\"middle\" x=\"282.9\" y=\"-54\" font-family=\"Times,serif\" font-size=\"14.00\">ReLU(.)</text>\n",
       "</g>\n",
       "<!-- Σ&#45;&gt;ReLU(.) -->\n",
       "<g id=\"edge5\" class=\"edge\">\n",
       "<title>Σ&#45;&gt;ReLU(.)</title>\n",
       "<path fill=\"none\" stroke=\"black\" d=\"M211.68,-57.7C219.06,-57.7 228.06,-57.7 237.11,-57.7\"/>\n",
       "<polygon fill=\"black\" stroke=\"black\" points=\"237.27,-61.2 247.27,-57.7 237.27,-54.2 237.27,-61.2\"/>\n",
       "</g>\n",
       "<!-- ReLU(.)&#45;&gt;y(x) -->\n",
       "<g id=\"edge6\" class=\"edge\">\n",
       "<title>ReLU(.)&#45;&gt;y(x)</title>\n",
       "<path fill=\"none\" stroke=\"black\" d=\"M318.46,-57.7C326.75,-57.7 335.63,-57.7 344,-57.7\"/>\n",
       "<polygon fill=\"black\" stroke=\"black\" points=\"344.25,-61.2 354.25,-57.7 344.25,-54.2 344.25,-61.2\"/>\n",
       "</g>\n",
       "</g>\n",
       "</svg>\n"
      ],
      "text/plain": [
       "<graphviz.files.Source at 0x7f9d9af0f760>"
      ]
     },
     "execution_count": 8,
     "metadata": {},
     "output_type": "execute_result"
    }
   ],
   "source": [
    "neuron = graphviz.Source('digraph G{ \\\n",
    "                            rankdir=LR; \\\n",
    "                            { node [shape = \"none\"]; x; 1; \"y(x)\"; } \\\n",
    "                            { node [shape = \"circle\"]; w1; w0; Σ } \\\n",
    "                            { node [shape = \"rect\"]; \"ReLU(.)\" } \\\n",
    "                            \"x\" -> \"w1\"; \\\n",
    "                            \"1\" -> \"w0\"; \\\n",
    "                            \"w1\" -> \"Σ\"; \\\n",
    "                            \"w0\" -> \"Σ\"; \\\n",
    "                            \"Σ\" -> \"ReLU(.)\"; \\\n",
    "                            \"ReLU(.)\" -> \"y(x)\";}')\n",
    "neuron"
   ]
  },
  {
   "cell_type": "code",
   "execution_count": 9,
   "id": "31e0726a",
   "metadata": {},
   "outputs": [
    {
     "data": {
      "image/png": "[encoded data removed]",
      "text/latex": [
       "$\\displaystyle \\left\\{ w_{0} : 5, \\  w_{1} : -1\\right\\}$"
      ],
      "text/plain": [
       "{w₀: 5, w₁: -1}"
      ]
     },
     "execution_count": 9,
     "metadata": {},
     "output_type": "execute_result"
    }
   ],
   "source": [
    "# нахождение весов путём решения СЛАУ\n",
    "w1, w0 = sympy.symbols(\"w1 w0\")\n",
    "sympy.solve([w1*4+w0-1, w1*2+w0-3], [w1,w0])"
   ]
  },
  {
   "cell_type": "code",
   "execution_count": 10,
   "id": "badbef1f",
   "metadata": {},
   "outputs": [
    {
     "name": "stdout",
     "output_type": "stream",
     "text": [
      "[4.77500000000000, -1.15000000000000], err=1.56250000000000\n",
      "[4.79150000000000, -1.08400000000000], err=0.680624999999999\n",
      "[4.80239000000000, -1.04044000000000], err=0.296480250000000\n",
      "[4.80957740000000, -1.01169040000000], err=0.129146796900000\n",
      "[4.81432108400000, -0.992715664000000], err=0.0562563447296398\n",
      "[4.81745191544000, -0.980192338240000], err=0.0245052637642310\n",
      "[4.81951826419040, -0.971926943238400], err=0.0106744928956991\n",
      "[4.82088205436566, -0.966471782537344], err=0.00464980910536648\n",
      "[4.82178215588134, -0.962871376474647], err=0.00202545684629758\n",
      "[4.82237622288168, -0.960495108473267], err=0.000882289002247188\n",
      "[4.82434850276298, -0.956550548710673], err=0.00972471982542222\n",
      "[4.82612355465615, -0.953000444924339], err=0.00787702305859192\n",
      "[4.82772110136000, -0.949805351516637], err=0.00638038867745941\n",
      "[4.82915889339347, -0.946929767449706], err=0.00516811482874213\n",
      "[4.83045290622358, -0.944341741789469], err=0.00418617301128112\n",
      "[4.83161751777069, -0.942012518695254], err=0.00339080013913771\n",
      "[4.83266566816309, -0.939916217910462], err=0.00274654811270149\n",
      "[4.83360900351624, -0.938029547204148], err=0.00222470397128829\n",
      "[4.83445800533408, -0.936331543568466], err=0.00180201021674352\n",
      "[4.83522210697014, -0.934803340296352], err=0.00145962827556226\n",
      "[4.83590979844259, -0.933427957351450], err=0.00118229890320547\n",
      "[4.83652872076780, -0.932190112701038], err=0.000957662111596418\n",
      "4.82945247182474 -0.946342610587152\n"
     ]
    }
   ],
   "source": [
    "# алгоритм обратного распространения ошибки\n",
    "\n",
    "EPS = 0.001  # допустимая погрешность\n",
    "lr = 0.01  # learning rate\n",
    "w1, w0 = -1.25, 4.75  # начальное приближение весов\n",
    "\n",
    "W1, W0 = sympy.symbols(\"W1 W0\")\n",
    "X, Y = sympy.symbols(\"X Y\", positive=True)\n",
    "Y = W1*X+W0\n",
    "\n",
    "Q = []\n",
    "for (x0, y0) in ((4, 1), (2, 3)):\n",
    "    err = sympy.oo\n",
    "    while err > EPS:\n",
    "        L = (Y.subs(X, x0) - y0)**2\n",
    "        err = L.subs(W1, w1).subs(W0, w0)\n",
    "        dL_w1, dL_w0 = sympy.diff(L, W1), sympy.diff(L, W0)\n",
    "        dL1, dL0 = dL_w1.subs(W1, w1).subs(W0, w0), dL_w0.subs(W1, w1).subs(W0, w0)\n",
    "        w1, w0 = w1 - lr * dL1, w0 - lr * dL0\n",
    "        print(f\"{[w0, w1]}, {err=}\")\n",
    "    Q.append([w0, w1, err])\n",
    "# print(Q)\n",
    "q = list(zip(*Q))\n",
    "w0 = sum(q[0]) / len(q[0])\n",
    "w1 = sum(q[1]) / len(q[1])\n",
    "print(w0, w1)"
   ]
  },
  {
   "cell_type": "markdown",
   "id": "827e4fe4",
   "metadata": {},
   "source": [
    "Видно, что веса сходятся к точному решению (только очень медленно)."
   ]
  },
  {
   "cell_type": "code",
   "execution_count": null,
   "id": "f9ecf1a6",
   "metadata": {},
   "outputs": [],
   "source": []
  }
 ],
 "metadata": {
  "kernelspec": {
   "display_name": "Python 3 (ipykernel)",
   "language": "python",
   "name": "python3"
  },
  "language_info": {
   "codemirror_mode": {
    "name": "ipython",
    "version": 3
   },
   "file_extension": ".py",
   "mimetype": "text/x-python",
   "name": "python",
   "nbconvert_exporter": "python",
   "pygments_lexer": "ipython3",
   "version": "3.10.6"
  }
 },
 "nbformat": 4,
 "nbformat_minor": 5
}
