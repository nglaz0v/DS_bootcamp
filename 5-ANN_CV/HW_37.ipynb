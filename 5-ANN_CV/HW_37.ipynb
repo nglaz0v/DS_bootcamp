{
 "cells": [
  {
   "cell_type": "markdown",
   "id": "b68208e8",
   "metadata": {},
   "source": [
    "# ДЗ: Знакомство с нейронными сетями"
   ]
  },
  {
   "cell_type": "code",
   "execution_count": 1,
   "id": "d25f26a3",
   "metadata": {},
   "outputs": [],
   "source": [
    "import graphviz\n",
    "import sympy\n",
    "sympy.init_printing(use_unicode=True)"
   ]
  },
  {
   "cell_type": "markdown",
   "id": "6be77b61",
   "metadata": {},
   "source": [
    "### №1\n",
    "Вспомните рассмотренные на занятии функции активации нейронной сети.\n",
    "Чему равна производная сигмоидной функции активации? Выразите ответ через сигмоидную функцию."
   ]
  },
  {
   "cell_type": "code",
   "execution_count": 2,
   "id": "0165eae2",
   "metadata": {},
   "outputs": [
    {
     "data": {
      "image/png": "[encoded data removed]",
      "text/latex": [
       "$\\displaystyle \\frac{1}{1 + e^{- x}}$"
      ],
      "text/plain": [
       "   1   \n",
       "───────\n",
       "     -x\n",
       "1 + ℯ  "
      ]
     },
     "execution_count": 2,
     "metadata": {},
     "output_type": "execute_result"
    }
   ],
   "source": [
    "x = sympy.symbols(\"x\")\n",
    "sigmoid = 1/(1+sympy.exp(-x))\n",
    "sigmoid"
   ]
  },
  {
   "cell_type": "code",
   "execution_count": 3,
   "id": "1b0cc01c",
   "metadata": {},
   "outputs": [
    {
     "data": {
      "image/png": "[encoded data removed]",
      "text/latex": [
       "$\\displaystyle \\frac{e^{- x}}{\\left(1 + e^{- x}\\right)^{2}}$"
      ],
      "text/plain": [
       "    -x    \n",
       "   ℯ      \n",
       "──────────\n",
       "         2\n",
       "⎛     -x⎞ \n",
       "⎝1 + ℯ  ⎠ "
      ]
     },
     "execution_count": 3,
     "metadata": {},
     "output_type": "execute_result"
    }
   ],
   "source": [
    "dsigm = sympy.diff(sigmoid, x)\n",
    "dsigm"
   ]
  },
  {
   "cell_type": "code",
   "execution_count": 4,
   "id": "4f5ecf55",
   "metadata": {},
   "outputs": [
    {
     "data": {
      "image/png": "[encoded data removed]",
      "text/latex": [
       "$\\displaystyle Sigmoid^{2} e^{- x}$"
      ],
      "text/plain": [
       "       2  -x\n",
       "Sigmoid ⋅ℯ  "
      ]
     },
     "execution_count": 4,
     "metadata": {},
     "output_type": "execute_result"
    }
   ],
   "source": [
    "Sigmoid = sympy.symbols(\"Sigmoid\")\n",
    "dsigm.subs(sigmoid, Sigmoid)"
   ]
  },
  {
   "cell_type": "markdown",
   "id": "3e6a918c",
   "metadata": {},
   "source": [
    "### №2\n",
    "Пусть на вход искусственному нейрону подается число x, а затем домножается на вес связи \n",
    "$w_1$, внутри нейрона прибавляется вес-смещение $w_0$ и после этого применяется функция активации Relu. \n",
    "\n",
    "Нарисуйте схему такого нейрона.\n",
    "\n",
    "Допустим, что в наш нейрон подали вход x=4 и получили ответ 1, потом подали вход x=2  и получили ответ 3.\n",
    "\n",
    "Чему равны веса $w_1, w_0$?"
   ]
  },
  {
   "cell_type": "code",
   "execution_count": 5,
   "id": "dc78e19b",
   "metadata": {},
   "outputs": [
    {
     "data": {
      "image/svg+xml": [
       "<?xml version=\"1.0\" encoding=\"UTF-8\" standalone=\"no\"?>\n",
       "<!DOCTYPE svg PUBLIC \"-//W3C//DTD SVG 1.1//EN\"\n",
       " \"http://www.w3.org/Graphics/SVG/1.1/DTD/svg11.dtd\">\n",
       "<!-- Generated by graphviz version 2.40.1 (20161225.0304)\n",
       " -->\n",
       "<!-- Title: G Pages: 1 -->\n",
       "<svg width=\"393pt\" height=\"112pt\"\n",
       " viewBox=\"0.00 0.00 392.90 111.90\" xmlns=\"http://www.w3.org/2000/svg\" xmlns:xlink=\"http://www.w3.org/1999/xlink\">\n",
       "<g id=\"graph0\" class=\"graph\" transform=\"scale(1 1) rotate(0) translate(4 107.8962)\">\n",
       "<title>G</title>\n",
       "<polygon fill=\"#ffffff\" stroke=\"transparent\" points=\"-4,4 -4,-107.8962 388.8962,-107.8962 388.8962,4 -4,4\"/>\n",
       "<!-- x -->\n",
       "<g id=\"node1\" class=\"node\">\n",
       "<title>x</title>\n",
       "<text text-anchor=\"middle\" x=\"27\" y=\"-78.7481\" font-family=\"Times,serif\" font-size=\"14.00\" fill=\"#000000\">x</text>\n",
       "</g>\n",
       "<!-- w1 -->\n",
       "<g id=\"node4\" class=\"node\">\n",
       "<title>w1</title>\n",
       "<ellipse fill=\"none\" stroke=\"#000000\" cx=\"111.4481\" cy=\"-82.4481\" rx=\"21.3963\" ry=\"21.3963\"/>\n",
       "<text text-anchor=\"middle\" x=\"111.4481\" y=\"-78.7481\" font-family=\"Times,serif\" font-size=\"14.00\" fill=\"#000000\">w1</text>\n",
       "</g>\n",
       "<!-- x&#45;&gt;w1 -->\n",
       "<g id=\"edge1\" class=\"edge\">\n",
       "<title>x&#45;&gt;w1</title>\n",
       "<path fill=\"none\" stroke=\"#000000\" d=\"M54.1847,-82.4481C62.3213,-82.4481 71.3149,-82.4481 79.7167,-82.4481\"/>\n",
       "<polygon fill=\"#000000\" stroke=\"#000000\" points=\"79.9335,-85.9482 89.9334,-82.4481 79.9334,-78.9482 79.9335,-85.9482\"/>\n",
       "</g>\n",
       "<!-- 1 -->\n",
       "<g id=\"node2\" class=\"node\">\n",
       "<title>1</title>\n",
       "<text text-anchor=\"middle\" x=\"27\" y=\"-17.7481\" font-family=\"Times,serif\" font-size=\"14.00\" fill=\"#000000\">1</text>\n",
       "</g>\n",
       "<!-- w0 -->\n",
       "<g id=\"node5\" class=\"node\">\n",
       "<title>w0</title>\n",
       "<ellipse fill=\"none\" stroke=\"#000000\" cx=\"111.4481\" cy=\"-21.4481\" rx=\"21.3963\" ry=\"21.3963\"/>\n",
       "<text text-anchor=\"middle\" x=\"111.4481\" y=\"-17.7481\" font-family=\"Times,serif\" font-size=\"14.00\" fill=\"#000000\">w0</text>\n",
       "</g>\n",
       "<!-- 1&#45;&gt;w0 -->\n",
       "<g id=\"edge2\" class=\"edge\">\n",
       "<title>1&#45;&gt;w0</title>\n",
       "<path fill=\"none\" stroke=\"#000000\" d=\"M54.1847,-21.4481C62.3213,-21.4481 71.3149,-21.4481 79.7167,-21.4481\"/>\n",
       "<polygon fill=\"#000000\" stroke=\"#000000\" points=\"79.9335,-24.9482 89.9334,-21.4481 79.9334,-17.9482 79.9335,-24.9482\"/>\n",
       "</g>\n",
       "<!-- y(x) -->\n",
       "<g id=\"node3\" class=\"node\">\n",
       "<title>y(x)</title>\n",
       "<text text-anchor=\"middle\" x=\"357.8962\" y=\"-47.7481\" font-family=\"Times,serif\" font-size=\"14.00\" fill=\"#000000\">y(x)</text>\n",
       "</g>\n",
       "<!-- Σ -->\n",
       "<g id=\"node6\" class=\"node\">\n",
       "<title>Σ</title>\n",
       "<ellipse fill=\"none\" stroke=\"#000000\" cx=\"186.8962\" cy=\"-51.4481\" rx=\"18\" ry=\"18\"/>\n",
       "<text text-anchor=\"middle\" x=\"186.8962\" y=\"-47.7481\" font-family=\"Times,serif\" font-size=\"14.00\" fill=\"#000000\">Σ</text>\n",
       "</g>\n",
       "<!-- w1&#45;&gt;Σ -->\n",
       "<g id=\"edge3\" class=\"edge\">\n",
       "<title>w1&#45;&gt;Σ</title>\n",
       "<path fill=\"none\" stroke=\"#000000\" d=\"M131.6668,-74.1407C140.6082,-70.4669 151.2354,-66.1004 160.7683,-62.1835\"/>\n",
       "<polygon fill=\"#000000\" stroke=\"#000000\" points=\"162.2704,-65.3503 170.1898,-58.3124 159.61,-58.8755 162.2704,-65.3503\"/>\n",
       "</g>\n",
       "<!-- w0&#45;&gt;Σ -->\n",
       "<g id=\"edge4\" class=\"edge\">\n",
       "<title>w0&#45;&gt;Σ</title>\n",
       "<path fill=\"none\" stroke=\"#000000\" d=\"M131.6668,-29.4875C140.4786,-32.9913 150.9277,-37.1462 160.3531,-40.8939\"/>\n",
       "<polygon fill=\"#000000\" stroke=\"#000000\" points=\"159.1077,-44.1652 169.6933,-44.6078 161.6941,-37.6605 159.1077,-44.1652\"/>\n",
       "</g>\n",
       "<!-- σ(.) -->\n",
       "<g id=\"node7\" class=\"node\">\n",
       "<title>σ(.)</title>\n",
       "<polygon fill=\"none\" stroke=\"#000000\" points=\"294.8962,-69.4481 240.8962,-69.4481 240.8962,-33.4481 294.8962,-33.4481 294.8962,-69.4481\"/>\n",
       "<text text-anchor=\"middle\" x=\"267.8962\" y=\"-47.7481\" font-family=\"Times,serif\" font-size=\"14.00\" fill=\"#000000\">σ(.)</text>\n",
       "</g>\n",
       "<!-- Σ&#45;&gt;σ(.) -->\n",
       "<g id=\"edge5\" class=\"edge\">\n",
       "<title>Σ&#45;&gt;σ(.)</title>\n",
       "<path fill=\"none\" stroke=\"#000000\" d=\"M205.2763,-51.4481C212.7913,-51.4481 221.7719,-51.4481 230.5534,-51.4481\"/>\n",
       "<polygon fill=\"#000000\" stroke=\"#000000\" points=\"230.6709,-54.9482 240.6708,-51.4481 230.6708,-47.9482 230.6709,-54.9482\"/>\n",
       "</g>\n",
       "<!-- σ(.)&#45;&gt;y(x) -->\n",
       "<g id=\"edge6\" class=\"edge\">\n",
       "<title>σ(.)&#45;&gt;y(x)</title>\n",
       "<path fill=\"none\" stroke=\"#000000\" d=\"M294.8992,-51.4481C302.9239,-51.4481 311.8627,-51.4481 320.427,-51.4481\"/>\n",
       "<polygon fill=\"#000000\" stroke=\"#000000\" points=\"320.6013,-54.9482 330.6012,-51.4481 320.6012,-47.9482 320.6013,-54.9482\"/>\n",
       "</g>\n",
       "</g>\n",
       "</svg>\n"
      ],
      "text/plain": [
       "<graphviz.files.Source at 0x7fe9c568af60>"
      ]
     },
     "execution_count": 5,
     "metadata": {},
     "output_type": "execute_result"
    }
   ],
   "source": [
    "neuron = graphviz.Source('digraph G{ \\\n",
    "                            rankdir=LR; \\\n",
    "                            { node [shape = \"none\"]; x; 1; \"y(x)\"; } \\\n",
    "                            { node [shape = \"circle\"]; w1; w0; Σ } \\\n",
    "                            { node [shape = \"rect\"]; \"σ(.)\" } \\\n",
    "                            \"x\" -> \"w1\"; \\\n",
    "                            \"1\" -> \"w0\"; \\\n",
    "                            \"w1\" -> \"Σ\"; \\\n",
    "                            \"w0\" -> \"Σ\"; \\\n",
    "                            \"Σ\" -> \"σ(.)\"; \\\n",
    "                            \"σ(.)\" -> \"y(x)\";}')\n",
    "neuron"
   ]
  },
  {
   "cell_type": "code",
   "execution_count": 6,
   "id": "31e0726a",
   "metadata": {},
   "outputs": [
    {
     "data": {
      "image/png": "[encoded data removed]",
      "text/latex": [
       "$\\displaystyle \\left\\{ w_{0} : 5, \\  w_{1} : -1\\right\\}$"
      ],
      "text/plain": [
       "{w₀: 5, w₁: -1}"
      ]
     },
     "execution_count": 6,
     "metadata": {},
     "output_type": "execute_result"
    }
   ],
   "source": [
    "w1, w0 = sympy.symbols(\"w1 w0\")\n",
    "sympy.solve([w1*4+w0-1, w1*2+w0-3], [w1,w0])"
   ]
  },
  {
   "cell_type": "code",
   "execution_count": null,
   "id": "badbef1f",
   "metadata": {},
   "outputs": [],
   "source": []
  }
 ],
 "metadata": {
  "kernelspec": {
   "display_name": "Python 3",
   "language": "python",
   "name": "python3"
  },
  "language_info": {
   "codemirror_mode": {
    "name": "ipython",
    "version": 3
   },
   "file_extension": ".py",
   "mimetype": "text/x-python",
   "name": "python",
   "nbconvert_exporter": "python",
   "pygments_lexer": "ipython3",
   "version": "3.6.9"
  }
 },
 "nbformat": 4,
 "nbformat_minor": 5
}
